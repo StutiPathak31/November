{
 "cells": [
  {
   "cell_type": "markdown",
   "metadata": {},
   "source": [
    "### Song class, function that returns list of singers with one famous song"
   ]
  },
  {
   "cell_type": "code",
   "execution_count": 1,
   "metadata": {},
   "outputs": [
    {
     "name": "stdout",
     "output_type": "stream",
     "text": [
      "[2 n2 by a2, 3 n3 by a3]\n"
     ]
    }
   ],
   "source": [
    "class Song:\n",
    "    \n",
    "    def __init__(self,id,name,artist):\n",
    "        self.id=id\n",
    "        self.name=name\n",
    "        self.artist=artist\n",
    "        \n",
    "    def __repr__(self):\n",
    "        return str(self.id)+\" \"+self.name+\" by \"+self.artist\n",
    "\n",
    "\n",
    "def one_hit_wonder(songs):\n",
    "    \n",
    "    for song in songs:\n",
    "        one_hit=True\n",
    "        for other_song in songs:\n",
    "            if other_song!=song and other_song.artist==song.artist:\n",
    "                one_hit=False\n",
    "        if one_hit:\n",
    "            yield song\n",
    "        \n",
    "\n",
    "s1=Song(1,\"n1\",\"a1\")\n",
    "s2=Song(2,\"n2\",\"a2\")\n",
    "s3=Song(3,\"n3\",\"a3\")\n",
    "s4=Song(4,\"n1\",\"a1\")\n",
    "#s5=Song(5,\"n2\",\"a2\")\n",
    "\n",
    "s=[s1,s2,s3,s4]\n",
    "\n",
    "print(list(one_hit_wonder(s)))"
   ]
  },
  {
   "cell_type": "markdown",
   "metadata": {},
   "source": [
    "### Inheritance in Python"
   ]
  },
  {
   "cell_type": "code",
   "execution_count": 3,
   "metadata": {},
   "outputs": [
    {
     "name": "stdout",
     "output_type": "stream",
     "text": [
      "Output to check AutoPart Class\n",
      "Wiper Blade(120356) made by Michellin priced at $10.235\n",
      "\n",
      "Output to check VehicleInfo class\n",
      "2006 Toyota Prius\n",
      "\n",
      "Solenoid(34789) made by Danfoss priced at $22.25 for 2006 Toyota Prius rated at 120V\n",
      "\n"
     ]
    }
   ],
   "source": [
    "class AutoPart:\n",
    "    \n",
    "    def __init__(self,pNum,pName,mfr):\n",
    "        self.partNumber=pNum\n",
    "        self.partName=pName\n",
    "        self.mfrName=mfr\n",
    "    \n",
    "    def __str__(self):\n",
    "        return \"{0}({1}) made by {2} priced at ${3}\".format(self.partName,self.partNumber,self.mfrName,self.price)\n",
    "        \n",
    "    def setPrice(self,p):\n",
    "        self.price=p\n",
    "\n",
    "print(\"Output to check AutoPart Class\")\n",
    "part=AutoPart(120356,'Wiper Blade','Michellin')\n",
    "part.setPrice(10.235)\n",
    "print(part)   \n",
    "print()\n",
    "\n",
    "\n",
    "class VehicleInfo:\n",
    "    \n",
    "    def __init__(self,mfr,mod,y):\n",
    "        self.mfrName=mfr\n",
    "        self.model=mod\n",
    "        self.year=y\n",
    "        \n",
    "    def __str__(self):\n",
    "        return \"{0} {1} {2}\".format(self.year,self.mfrName,self.model)\n",
    "    \n",
    "print(\"Output to check VehicleInfo class\")    \n",
    "vehicle=VehicleInfo(\"Toyota\",\"Prius\",2006)\n",
    "print(vehicle)\n",
    "print()\n",
    "\n",
    "\n",
    "\n",
    "class ElectricalPart(AutoPart):\n",
    "    \n",
    "    def __init__(self,pNum,pName,mfr,volt):\n",
    "        AutoPart.__init__(self,pNum,pName,mfr)\n",
    "        self.voltage=volt\n",
    "        \n",
    "    def setVehicleInfo(self,vehicle):\n",
    "        self.v=vehicle\n",
    "        \n",
    "    def __str__(self):\n",
    "        return \"{0} for {1} rated at {2}V\".format(super().__str__(),self.v,self.voltage)\n",
    "    \n",
    "\n",
    "elecPart = ElectricalPart(34789,'Solenoid','Danfoss',120)\n",
    "elecPart.setVehicleInfo(vehicle)\n",
    "elecPart.setPrice(22.25)\n",
    "print(elecPart)\n",
    "print()\n",
    "\n",
    "\n",
    "#Solenoid(3478) made by Danfoss priced at $22.25 for 2006 Toyota Prius rated at 120V\n",
    "\n"
   ]
  },
  {
   "cell_type": "markdown",
   "metadata": {},
   "source": [
    "### Class that produces the letter with the highest frequency in the string"
   ]
  },
  {
   "cell_type": "code",
   "execution_count": 4,
   "metadata": {},
   "outputs": [
    {
     "name": "stdout",
     "output_type": "stream",
     "text": [
      "5\n",
      "o 5\n"
     ]
    }
   ],
   "source": [
    "class MyString:\n",
    "    \n",
    "    def __init__(self,mystring):\n",
    "        self.__mystring=mystring\n",
    "        \n",
    "    def countWord(self):\n",
    "        return len(self.__mystring.split())\n",
    "    \n",
    "    def countfreq(self):\n",
    "        maxchar,maxc=\"\",0\n",
    "        for i in range(97,122):\n",
    "            c=0\n",
    "            for j in self.__mystring:\n",
    "                if ord(j.lower())==i:\n",
    "                    c+=1\n",
    "            if c>maxc:\n",
    "                maxc=c\n",
    "                maxchar=i\n",
    "        print(chr(maxchar), maxc)\n",
    "        \n",
    "def main():\n",
    "    astring=MyString(\"good morning how are you!\")\n",
    "    print(astring.countWord())\n",
    "    astring.countfreq()\n",
    "        \n",
    "main()\n",
    "                \n",
    "                "
   ]
  },
  {
   "cell_type": "markdown",
   "metadata": {},
   "source": [
    "### Class that reads data of 1000 students and print the statistics"
   ]
  },
  {
   "cell_type": "code",
   "execution_count": null,
   "metadata": {},
   "outputs": [],
   "source": [
    "import random\n",
    "file = open(\"student_data.dat\",\"w\")\n",
    "\n",
    "for i in range(1000):\n",
    "    year=random.randint(1,5)\n",
    "    GPA=random.uniform(1,4)\n",
    "    file.write(\"LastName\"+str(i)+\" FirstName\"+str(i)+\" \"+str(year)+\" \"+str(GPA)[0:3]+\"\\n\")\n"
   ]
  },
  {
   "cell_type": "code",
   "execution_count": 5,
   "metadata": {},
   "outputs": [],
   "source": [
    "class Student():\n",
    "    \n",
    "    def __init__(self):\n",
    "        self.__LN=\"\"\n",
    "        self.__FN=\"\"\n",
    "        self.__Year=0\n",
    "        self.__GPA=0\n",
    "        \n",
    "    def update(self,string):\n",
    "        self.__LN,self.__FN,self.__Year,self.__GPA=string.rstrip().split(\" \")\n",
    "    \n",
    "    def get_name(self):\n",
    "        return self.__LN+\" \"+self.__FN\n",
    "    def get_year(self):\n",
    "        return self.__Year\n",
    "    def get_gpa(self):\n",
    "        return self.__GPA\n",
    "        "
   ]
  },
  {
   "cell_type": "code",
   "execution_count": 9,
   "metadata": {},
   "outputs": [
    {
     "name": "stdout",
     "output_type": "stream",
     "text": [
      "Year   Num   Avg_Gpa              Median_Gpa\n",
      "\n",
      "1      212    2.44811320754717    2.45\n",
      "2      196    2.4397959183673468    2.4\n",
      "3      215    2.549302325581395    2.6\n",
      "4      187    2.5294117647058822    2.6\n",
      "5      190    2.5631578947368423    2.7\n"
     ]
    }
   ],
   "source": [
    "import statistics\n",
    "fh=open('student_data.dat','r')\n",
    "contents=fh.readlines()\n",
    "#print(len(contents))\n",
    "l=[]\n",
    "for line in contents:\n",
    "    stud=Student()\n",
    "    stud.update(line)\n",
    "    l.append(stud)\n",
    "fh.close()\n",
    "\n",
    "file=open(\"output.txt\",\"w\")\n",
    "file.write(\"Year   Num   Avg_Gpa              Median_Gpa\\n\")\n",
    "print(\"Year   Num   Avg_Gpa              Median_Gpa\\n\")\n",
    "for y in range(1,6):\n",
    "    templ,c=[],0\n",
    "    for stud in l:\n",
    "        if int(stud.get_year())==y:\n",
    "            templ.append(float(stud.get_gpa()))\n",
    "            c+=1\n",
    "    mean=statistics.mean(templ)\n",
    "    median=statistics.median(templ)\n",
    "    print(y,\"    \",c,\"  \",mean,\"  \",median)\n",
    "    file.write(str(y)+\"     \"+str(c)+\"   \"+str(mean)+\"   \"+str(median)+\"\\n\")\n",
    "        \n",
    "            "
   ]
  },
  {
   "cell_type": "markdown",
   "metadata": {},
   "source": [
    "### Person class and printing data as per location and gender"
   ]
  },
  {
   "cell_type": "code",
   "execution_count": 10,
   "metadata": {},
   "outputs": [
    {
     "name": "stdout",
     "output_type": "stream",
     "text": [
      "---------Printing Females in Ankara------------\n",
      "\n",
      "Name: gizem\n",
      "Age: 21\n",
      "Gender: female\n",
      "Location: ankara \n",
      "\n",
      "Name: gulsah\n",
      "Age: 21\n",
      "Gender: female\n",
      "Location: ankara \n",
      "\n"
     ]
    }
   ],
   "source": [
    "# Creating person class with required acessor and getter methods\n",
    "class Person(object):\n",
    "    def __init__(self,name,age,gender,location):\n",
    "        self.Name=name\n",
    "        self.Age=age\n",
    "        self.Gender=gender\n",
    "        self.Location=location\n",
    "    def get_name(self):\n",
    "        return self.Name\n",
    "    def get_age(self):\n",
    "        return self.Age\n",
    "    def get_gender(self):\n",
    "        return self.Gender\n",
    "    def get_location(self):\n",
    "        return self.Location\n",
    "    def update_location(self,loc):\n",
    "        self.Location=loc\n",
    "    def Increase_age(self):\n",
    "        self.Age=self.Age+1\n",
    "        \n",
    "    def __repr__(self):\n",
    "        return \"Name: \"+self.Name+\"\\nAge: \"+self.Age+\"\\nGender: \"+self.Gender+\"\\nLocation: \"+self.Location\n",
    "    \n",
    "    \n",
    "    \n",
    "    \n",
    "def getByLocation(list_per,loc):\n",
    "    refine=[] # Initialising empty list\n",
    "    \n",
    "    for per in list_per: # Traversing the list of person \n",
    "        if per.get_location()==loc: # If the person belongs to particular location then append it to refine list\n",
    "            refine.append(per)\n",
    "            \n",
    "    return refine\n",
    "\n",
    "\n",
    "def getByGender(list_per,gender):\n",
    "    refine=[] # Initialising empty list\n",
    "    \n",
    "    for per in list_per: # Traversing the list of person \n",
    "        if per.get_gender()==gender: # If the person belongs to particular gender then append it to refine list\n",
    "            refine.append(per)\n",
    "            \n",
    "    return refine\n",
    "\n",
    "\n",
    "# Main function\n",
    "def main():\n",
    "    \n",
    "    fh=open(\"INPUT.txt\",'r') # File handler to open input file,\"Change the file name as per your input file name\"\n",
    "    contents=fh.readlines() # Reading lines of files as contents\n",
    "    \n",
    "    list_person=[] # Initialising empty list of persons\n",
    "    \n",
    "    for line in contents: # Traversing list of contents\n",
    "        name,age,gender,loc=line.rstrip().split(\",\") # Since the values are comma separated \n",
    "        list_person.append(Person(name,age,gender,loc)) # Creating Person object with file values and adding to person list\n",
    "        \n",
    "    refine_loc=getByLocation(list_person,\"ankara\") # List of person belonging to \"ankara\"\n",
    "    refine_gen=getByGender(list_person,\"female\") # List of person of gender as female\n",
    "    \n",
    "    print(\"---------Printing Females in Ankara------------\\n\")\n",
    "    \n",
    "    # Printing data if the name in present in both values\n",
    "    for i in refine_loc:\n",
    "        if i in refine_gen:\n",
    "            print(i,\"\\n\")\n",
    "    \n",
    "        \n",
    "        \n",
    "main() # calling main     \n",
    "    \n"
   ]
  },
  {
   "cell_type": "code",
   "execution_count": null,
   "metadata": {},
   "outputs": [],
   "source": []
  }
 ],
 "metadata": {
  "kernelspec": {
   "display_name": "Python 3",
   "language": "python",
   "name": "python3"
  },
  "language_info": {
   "codemirror_mode": {
    "name": "ipython",
    "version": 3
   },
   "file_extension": ".py",
   "mimetype": "text/x-python",
   "name": "python",
   "nbconvert_exporter": "python",
   "pygments_lexer": "ipython3",
   "version": "3.6.4"
  }
 },
 "nbformat": 4,
 "nbformat_minor": 2
}
