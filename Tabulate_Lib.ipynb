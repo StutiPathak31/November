{
 "cells": [
  {
   "cell_type": "markdown",
   "metadata": {},
   "source": [
    "<b>Use of tabulate library for formatting output as table</b>"
   ]
  },
  {
   "cell_type": "code",
   "execution_count": 1,
   "metadata": {},
   "outputs": [
    {
     "name": "stdout",
     "output_type": "stream",
     "text": [
      "  SCALE       ENERGY          TNT\n",
      "-------  -----------  -----------\n",
      "    3    3.16228e+52  7.55803e+42\n",
      "    6    1e+57        2.39006e+47\n",
      "    9.1  4.46684e+61  1.0676e+52\n",
      "    9.2  6.30957e+61  1.50802e+52\n",
      "    9.5  1.77828e+62  4.25019e+52\n"
     ]
    }
   ],
   "source": [
    "from tabulate import tabulate\n",
    "def Ritcher(measurement):\n",
    "    \n",
    "    # Initialising list of energy and TNT burned\n",
    "    Energy,TNT=[],[]\n",
    "    \n",
    "    # Calculating energy and TNT for every measurement\n",
    "    for val in measurement:\n",
    "        E=pow(10,(1.5*val)+48)\n",
    "        T=E/(4.184*pow(10,9))\n",
    "        Energy.append(E)\n",
    "        TNT.append(T)\n",
    "    \n",
    "    \n",
    "    l=[]\n",
    "    # Making list of tuples for each measurement with their respective Energy and TNT\n",
    "    for i in range(len(measurement)):\n",
    "        l.append((measurement[i],Energy[i],TNT[i]))\n",
    "    \n",
    "    print(tabulate(l,headers=['SCALE','ENERGY','TNT']))\n",
    "    \n",
    "    \n",
    "Ritcher([3.0,6.0,9.1,9.2,9.5])"
   ]
  },
  {
   "cell_type": "code",
   "execution_count": null,
   "metadata": {},
   "outputs": [],
   "source": []
  }
 ],
 "metadata": {
  "kernelspec": {
   "display_name": "Python 3",
   "language": "python",
   "name": "python3"
  },
  "language_info": {
   "codemirror_mode": {
    "name": "ipython",
    "version": 3
   },
   "file_extension": ".py",
   "mimetype": "text/x-python",
   "name": "python",
   "nbconvert_exporter": "python",
   "pygments_lexer": "ipython3",
   "version": "3.6.4"
  }
 },
 "nbformat": 4,
 "nbformat_minor": 2
}
