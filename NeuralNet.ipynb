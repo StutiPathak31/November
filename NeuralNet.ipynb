{
 "cells": [
  {
   "cell_type": "markdown",
   "metadata": {},
   "source": [
    "<b>Neural Network which activates if the weighted sum of given input is geater than 0.</b>\n",
    "\n",
    "<b>activation=1 if w<sub>i</sub>x<sub>i</sub>>0</b>\n",
    "\n",
    "<b>activation=0 otherwise</b>\n",
    "\n",
    "<b>Weights are upadted as follows:</b>\n",
    "\n",
    "<b>w<sub>i+1</sub> = w<sub>i</sub> x eta x activation</b>\n"
   ]
  },
  {
   "cell_type": "code",
   "execution_count": 4,
   "metadata": {},
   "outputs": [
    {
     "name": "stdout",
     "output_type": "stream",
     "text": [
      "[-0.05, -0.02, 0.02]\n",
      "Error: 1.7320508075688772\n",
      "[0.2, -0.02, 0.02]\n",
      "Error: 1.0\n",
      "[-0.04999999999999999, -0.02, 0.27]\n",
      "Error: 1.0\n",
      "[-0.04999999999999999, -0.02, 0.27]\n",
      "Error: 1.0\n",
      "[-0.04999999999999999, -0.02, 0.27]\n",
      "Error: 1.0\n",
      "[0.2, -0.02, 0.27]\n",
      "Error: 1.0\n",
      "[0.2, -0.02, 0.27]\n",
      "Error: 1.0\n",
      "[-0.04999999999999999, 0.23, 0.27]\n",
      "Error: 1.0\n",
      "[-0.04999999999999999, 0.23, 0.27]\n",
      "Error: 0.0\n",
      "[0.2, 0.23, 0.27]\n",
      "Error: 0.0\n"
     ]
    }
   ],
   "source": [
    "def activation(inputs, weights):\n",
    "    z =[0,0,0]\n",
    "    for i in range(3):\n",
    "        z[i] = inputs[i] * weights[i] \n",
    "    if sum(z)>0:\n",
    "        return 1\n",
    "    else:\n",
    "        return 0\n",
    "    \n",
    "def update(weights, fp):\n",
    "   \n",
    "    y=activation( fp[0], weights)\n",
    "    for i in range(len(fp[0])):\n",
    "        x = fp[0][i]*eta*(fp[1]- y)\n",
    "        weights[i] = weights[i] + x\n",
    "   \n",
    "    \n",
    "def test(weights, f):\n",
    "    sum = 0\n",
    "    for fp in f:\n",
    "        input = fp[0]\n",
    "        output = fp[1]\n",
    "        sum += (output - activation(input, weights))**2\n",
    "    print(\"Error: {0}\".format(sum**.5))\n",
    "\n",
    "    \n",
    "eta  = 0.25\n",
    "f = [[[-1, 0, 0], 0], [[-1,0,1], 1], [[-1, 1, 0], 1], [[-1, 1, 1], 1]]\n",
    "weights = [-.05, -0.02, 0.02 ]\n",
    "\n",
    "for i in range(0, 10):\n",
    "    print(weights)\n",
    "    update(weights, f[i%4])\n",
    "    test(weights, f)"
   ]
  },
  {
   "cell_type": "code",
   "execution_count": null,
   "metadata": {},
   "outputs": [],
   "source": []
  }
 ],
 "metadata": {
  "kernelspec": {
   "display_name": "Python 3",
   "language": "python",
   "name": "python3"
  },
  "language_info": {
   "codemirror_mode": {
    "name": "ipython",
    "version": 3
   },
   "file_extension": ".py",
   "mimetype": "text/x-python",
   "name": "python",
   "nbconvert_exporter": "python",
   "pygments_lexer": "ipython3",
   "version": "3.6.4"
  }
 },
 "nbformat": 4,
 "nbformat_minor": 2
}
